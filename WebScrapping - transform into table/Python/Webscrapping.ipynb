{
 "cells": [
  {
   "cell_type": "markdown",
   "metadata": {
    "colab_type": "text",
    "id": "k6uGNU9zMbyK"
   },
   "source": [
    "Inicio com os imports"
   ]
  },
  {
   "cell_type": "code",
   "execution_count": 1,
   "metadata": {
    "colab": {},
    "colab_type": "code",
    "executionInfo": {
     "elapsed": 615,
     "status": "ok",
     "timestamp": 1593385587034,
     "user": {
      "displayName": "Hsie Hsuan",
      "photoUrl": "https://lh3.googleusercontent.com/a-/AOh14Gh4CYnnjSqy4A5UroOCB8DNKunU4Tc8wIzsc5I4Xg=s64",
      "userId": "10987322603866416145"
     },
     "user_tz": 180
    },
    "id": "47eOeP59LXb3"
   },
   "outputs": [],
   "source": [
    "from lxml import html\n",
    "import requests\n",
    "import pandas as pd\n",
    "import dateutil.parser"
   ]
  },
  {
   "cell_type": "markdown",
   "metadata": {
    "colab_type": "text",
    "id": "vwsGtU6wLyVp"
   },
   "source": [
    "Busco a página e defino na variavel \"webpage\""
   ]
  },
  {
   "cell_type": "code",
   "execution_count": 2,
   "metadata": {
    "colab": {},
    "colab_type": "code",
    "executionInfo": {
     "elapsed": 638,
     "status": "ok",
     "timestamp": 1593385588532,
     "user": {
      "displayName": "Hsie Hsuan",
      "photoUrl": "https://lh3.googleusercontent.com/a-/AOh14Gh4CYnnjSqy4A5UroOCB8DNKunU4Tc8wIzsc5I4Xg=s64",
      "userId": "10987322603866416145"
     },
     "user_tz": 180
    },
    "id": "7WhIerU0Mg_B"
   },
   "outputs": [],
   "source": [
    "webpage = requests.get('https://www.nytimes.com/interactive/2017/06/23/opinion/trumps-lies.html')"
   ]
  },
  {
   "cell_type": "markdown",
   "metadata": {
    "colab_type": "text",
    "id": "MlphAnWOMILd"
   },
   "source": [
    "Com a variavel \"webpage\", dou split nas informações\n"
   ]
  },
  {
   "cell_type": "code",
   "execution_count": 3,
   "metadata": {
    "colab": {},
    "colab_type": "code",
    "executionInfo": {
     "elapsed": 698,
     "status": "ok",
     "timestamp": 1593385589694,
     "user": {
      "displayName": "Hsie Hsuan",
      "photoUrl": "https://lh3.googleusercontent.com/a-/AOh14Gh4CYnnjSqy4A5UroOCB8DNKunU4Tc8wIzsc5I4Xg=s64",
      "userId": "10987322603866416145"
     },
     "user_tz": 180
    },
    "id": "Ft7wwVDUM-_y"
   },
   "outputs": [],
   "source": [
    "result = html.fromstring(webpage.content)\n",
    "\n",
    "date1 = result.xpath('//span[@class=\"short-desc\"]/strong/text()')\n",
    "date=[]\n",
    "\n",
    "for i in date1: \n",
    "    i = dateutil.parser.parse(i.strip('\\xa0') + ' 2017')\n",
    "    date.append(i)\n",
    "\n",
    "lie = result.xpath('//span[@class=\"short-desc\"]/text()')\n",
    "lie = [x.strip('(') for x in lie]\n",
    "\n",
    "explanation = result.xpath('//span[@class=\"short-truth\"]/a/text()')\n",
    "link = result.xpath('//span[@class=\"short-truth\"]/a/@href')\n"
   ]
  },
  {
   "cell_type": "markdown",
   "metadata": {
    "colab_type": "text",
    "id": "5Ruc3XfwMlX0"
   },
   "source": [
    "Com as listas, monto um dataframe"
   ]
  },
  {
   "cell_type": "code",
   "execution_count": 4,
   "metadata": {
    "colab": {},
    "colab_type": "code",
    "executionInfo": {
     "elapsed": 640,
     "status": "ok",
     "timestamp": 1593385591298,
     "user": {
      "displayName": "Hsie Hsuan",
      "photoUrl": "https://lh3.googleusercontent.com/a-/AOh14Gh4CYnnjSqy4A5UroOCB8DNKunU4Tc8wIzsc5I4Xg=s64",
      "userId": "10987322603866416145"
     },
     "user_tz": 180
    },
    "id": "lguJ9cQ9bjcF"
   },
   "outputs": [],
   "source": [
    "df = {'Date':date,'Lie':lie,'Explanation':explanation,'Link':link}\n",
    "df = pd.DataFrame(df)\n"
   ]
  },
  {
   "cell_type": "markdown",
   "metadata": {
    "colab_type": "text",
    "id": "7NyOZnD4MqqX"
   },
   "source": [
    "Com o dataframe posso gerar o arquivo csv"
   ]
  },
  {
   "cell_type": "code",
   "execution_count": 5,
   "metadata": {
    "colab": {},
    "colab_type": "code",
    "executionInfo": {
     "elapsed": 618,
     "status": "ok",
     "timestamp": 1593385595574,
     "user": {
      "displayName": "Hsie Hsuan",
      "photoUrl": "https://lh3.googleusercontent.com/a-/AOh14Gh4CYnnjSqy4A5UroOCB8DNKunU4Tc8wIzsc5I4Xg=s64",
      "userId": "10987322603866416145"
     },
     "user_tz": 180
    },
    "id": "utsmocENKrO_"
   },
   "outputs": [],
   "source": [
    "df.to_csv('mentiras_trump.csv')"
   ]
  },
  {
   "cell_type": "markdown",
   "metadata": {
    "colab_type": "text",
    "id": "kX9YIUpAM0mO"
   },
   "source": [
    "Tambem posso mostrar em tela o resultado do dataframe"
   ]
  },
  {
   "cell_type": "code",
   "execution_count": 6,
   "metadata": {
    "colab": {
     "base_uri": "https://localhost:8080/",
     "height": 589
    },
    "colab_type": "code",
    "executionInfo": {
     "elapsed": 694,
     "status": "ok",
     "timestamp": 1593385597033,
     "user": {
      "displayName": "Hsie Hsuan",
      "photoUrl": "https://lh3.googleusercontent.com/a-/AOh14Gh4CYnnjSqy4A5UroOCB8DNKunU4Tc8wIzsc5I4Xg=s64",
      "userId": "10987322603866416145"
     },
     "user_tz": 180
    },
    "id": "ieENHpYDKyXf",
    "outputId": "27960dc2-b4e4-4aa0-fef3-178f61b70c18"
   },
   "outputs": [
    {
     "data": {
      "text/html": [
       "<div>\n",
       "<style scoped>\n",
       "    .dataframe tbody tr th:only-of-type {\n",
       "        vertical-align: middle;\n",
       "    }\n",
       "\n",
       "    .dataframe tbody tr th {\n",
       "        vertical-align: top;\n",
       "    }\n",
       "\n",
       "    .dataframe thead th {\n",
       "        text-align: right;\n",
       "    }\n",
       "</style>\n",
       "<table border=\"1\" class=\"dataframe\">\n",
       "  <thead>\n",
       "    <tr style=\"text-align: right;\">\n",
       "      <th></th>\n",
       "      <th>Date</th>\n",
       "      <th>Lie</th>\n",
       "      <th>Explanation</th>\n",
       "      <th>Link</th>\n",
       "    </tr>\n",
       "  </thead>\n",
       "  <tbody>\n",
       "    <tr>\n",
       "      <th>0</th>\n",
       "      <td>2017-01-21</td>\n",
       "      <td>“I wasn't a fan of Iraq. I didn't want to go i...</td>\n",
       "      <td>(He was for an invasion before he was against ...</td>\n",
       "      <td>https://www.buzzfeed.com/andrewkaczynski/in-20...</td>\n",
       "    </tr>\n",
       "    <tr>\n",
       "      <th>1</th>\n",
       "      <td>2017-01-21</td>\n",
       "      <td>“A reporter for Time magazine — and I have bee...</td>\n",
       "      <td>(Trump was on the cover 11 times and Nixon app...</td>\n",
       "      <td>http://nation.time.com/2013/11/06/10-things-yo...</td>\n",
       "    </tr>\n",
       "    <tr>\n",
       "      <th>2</th>\n",
       "      <td>2017-01-23</td>\n",
       "      <td>“Between 3 million and 5 million illegal votes...</td>\n",
       "      <td>(There's no evidence of illegal voting.)</td>\n",
       "      <td>https://www.nytimes.com/2017/01/23/us/politics...</td>\n",
       "    </tr>\n",
       "    <tr>\n",
       "      <th>3</th>\n",
       "      <td>2017-01-25</td>\n",
       "      <td>“Now, the audience was the biggest ever. But t...</td>\n",
       "      <td>(Official aerial photos show Obama's 2009 inau...</td>\n",
       "      <td>https://www.nytimes.com/2017/01/21/us/politics...</td>\n",
       "    </tr>\n",
       "    <tr>\n",
       "      <th>4</th>\n",
       "      <td>2017-01-25</td>\n",
       "      <td>“Take a look at the Pew reports (which show vo...</td>\n",
       "      <td>(The report never mentioned voter fraud.)</td>\n",
       "      <td>https://www.nytimes.com/2017/01/24/us/politics...</td>\n",
       "    </tr>\n",
       "    <tr>\n",
       "      <th>...</th>\n",
       "      <td>...</td>\n",
       "      <td>...</td>\n",
       "      <td>...</td>\n",
       "      <td>...</td>\n",
       "    </tr>\n",
       "    <tr>\n",
       "      <th>175</th>\n",
       "      <td>2017-10-25</td>\n",
       "      <td>“We have trade deficits with almost everybody.”</td>\n",
       "      <td>(We have trade surpluses with more than 100 co...</td>\n",
       "      <td>https://www.bea.gov/newsreleases/international...</td>\n",
       "    </tr>\n",
       "    <tr>\n",
       "      <th>176</th>\n",
       "      <td>2017-10-27</td>\n",
       "      <td>“Wacky &amp; totally unhinged Tom Steyer, who has ...</td>\n",
       "      <td>(Steyer has financially supported many winning...</td>\n",
       "      <td>https://www.opensecrets.org/donor-lookup/resul...</td>\n",
       "    </tr>\n",
       "    <tr>\n",
       "      <th>177</th>\n",
       "      <td>2017-11-01</td>\n",
       "      <td>“Again, we're the highest-taxed nation, just a...</td>\n",
       "      <td>(We're not.)</td>\n",
       "      <td>http://www.politifact.com/truth-o-meter/statem...</td>\n",
       "    </tr>\n",
       "    <tr>\n",
       "      <th>178</th>\n",
       "      <td>2017-11-07</td>\n",
       "      <td>“When you look at the city with the strongest ...</td>\n",
       "      <td>(Several other cities, including New York and ...</td>\n",
       "      <td>http://www.politifact.com/truth-o-meter/statem...</td>\n",
       "    </tr>\n",
       "    <tr>\n",
       "      <th>179</th>\n",
       "      <td>2017-11-11</td>\n",
       "      <td>“I'd rather have him  – you know, work with hi...</td>\n",
       "      <td>(There is no evidence that Democrats \"set up\" ...</td>\n",
       "      <td>https://www.nytimes.com/interactive/2017/12/10...</td>\n",
       "    </tr>\n",
       "  </tbody>\n",
       "</table>\n",
       "<p>180 rows × 4 columns</p>\n",
       "</div>"
      ],
      "text/plain": [
       "          Date                                                Lie  \\\n",
       "0   2017-01-21  “I wasn't a fan of Iraq. I didn't want to go i...   \n",
       "1   2017-01-21  “A reporter for Time magazine — and I have bee...   \n",
       "2   2017-01-23  “Between 3 million and 5 million illegal votes...   \n",
       "3   2017-01-25  “Now, the audience was the biggest ever. But t...   \n",
       "4   2017-01-25  “Take a look at the Pew reports (which show vo...   \n",
       "..         ...                                                ...   \n",
       "175 2017-10-25   “We have trade deficits with almost everybody.”    \n",
       "176 2017-10-27  “Wacky & totally unhinged Tom Steyer, who has ...   \n",
       "177 2017-11-01  “Again, we're the highest-taxed nation, just a...   \n",
       "178 2017-11-07  “When you look at the city with the strongest ...   \n",
       "179 2017-11-11  “I'd rather have him  – you know, work with hi...   \n",
       "\n",
       "                                           Explanation  \\\n",
       "0    (He was for an invasion before he was against ...   \n",
       "1    (Trump was on the cover 11 times and Nixon app...   \n",
       "2             (There's no evidence of illegal voting.)   \n",
       "3    (Official aerial photos show Obama's 2009 inau...   \n",
       "4            (The report never mentioned voter fraud.)   \n",
       "..                                                 ...   \n",
       "175  (We have trade surpluses with more than 100 co...   \n",
       "176  (Steyer has financially supported many winning...   \n",
       "177                                       (We're not.)   \n",
       "178  (Several other cities, including New York and ...   \n",
       "179  (There is no evidence that Democrats \"set up\" ...   \n",
       "\n",
       "                                                  Link  \n",
       "0    https://www.buzzfeed.com/andrewkaczynski/in-20...  \n",
       "1    http://nation.time.com/2013/11/06/10-things-yo...  \n",
       "2    https://www.nytimes.com/2017/01/23/us/politics...  \n",
       "3    https://www.nytimes.com/2017/01/21/us/politics...  \n",
       "4    https://www.nytimes.com/2017/01/24/us/politics...  \n",
       "..                                                 ...  \n",
       "175  https://www.bea.gov/newsreleases/international...  \n",
       "176  https://www.opensecrets.org/donor-lookup/resul...  \n",
       "177  http://www.politifact.com/truth-o-meter/statem...  \n",
       "178  http://www.politifact.com/truth-o-meter/statem...  \n",
       "179  https://www.nytimes.com/interactive/2017/12/10...  \n",
       "\n",
       "[180 rows x 4 columns]"
      ]
     },
     "execution_count": 6,
     "metadata": {},
     "output_type": "execute_result"
    }
   ],
   "source": [
    "df"
   ]
  }
 ],
 "metadata": {
  "colab": {
   "authorship_tag": "ABX9TyOLfUx1qi8lrDui/tudWg0k",
   "collapsed_sections": [],
   "name": "Webscrapping.ipynb",
   "provenance": []
  },
  "kernelspec": {
   "display_name": "Python 3",
   "language": "python",
   "name": "python3"
  },
  "language_info": {
   "codemirror_mode": {
    "name": "ipython",
    "version": 3
   },
   "file_extension": ".py",
   "mimetype": "text/x-python",
   "name": "python",
   "nbconvert_exporter": "python",
   "pygments_lexer": "ipython3",
   "version": "3.7.6"
  }
 },
 "nbformat": 4,
 "nbformat_minor": 4
}
